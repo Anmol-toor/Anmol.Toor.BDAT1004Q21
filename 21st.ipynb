{
 "cells": [
  {
   "cell_type": "markdown",
   "id": "87841809-0484-44a2-97a6-478bf6037f53",
   "metadata": {
    "tags": []
   },
   "source": [
    "## Question 21: \n",
    "__int()__: Constructor that takes as input a pair of Point objects that represent the ends points of the line segment\n",
    "\n",
    "Length():: returns the length if the segment \n",
    "\n",
    "Slope() returns the slope of the segment of none if the slope is unbounded \n",
    "\n",
    " \n",
    "\n",
    "p1 = Point(3,4)\n",
    "\n",
    "p2 = Point()\n",
    "\n",
    "s = Segment(p1,p2)\n",
    "\n",
    "s.length()\n",
    "\n",
    "5.0\n",
    "\n",
    "s.slope()\n",
    "\n",
    "0.75"
   ]
  },
  {
   "cell_type": "code",
   "execution_count": 4,
   "id": "4c07b838-a0b1-4813-b214-c11cb669c53e",
   "metadata": {
    "tags": []
   },
   "outputs": [
    {
     "name": "stdout",
     "output_type": "stream",
     "text": [
      "The Length -  5.0\n",
      "The Slope -  1.3333333333333333\n"
     ]
    }
   ],
   "source": [
    "import math\n",
    "\n",
    "class Point:\n",
    "    def __init__(self, x=0, y=0):\n",
    "        self.x = x\n",
    "        self.y = y\n",
    "\n",
    "class Segment:\n",
    "    def __init__(self, p1, p2):\n",
    "        self.p1 = p1\n",
    "        self.p2 = p2\n",
    "    \n",
    "    def length(self):\n",
    "        return math.sqrt((self.p2.x - self.p1.x)**2 + (self.p2.y - self.p1.y)**2)\n",
    "    \n",
    "    def slope(self):\n",
    "        if self.p2.x - self.p1.x == 0:\n",
    "            return None\n",
    "        return (self.p2.y - self.p1.y) / (self.p2.x - self.p1.x)\n",
    "\n",
    "\n",
    "p1 = Point(3, 4)\n",
    "p2 = Point()\n",
    "s = Segment(p1, p2)\n",
    "\n",
    "print(\"The Length - \", s.length())\n",
    "print(\"The Slope - \", s.slope())\n"
   ]
  },
  {
   "cell_type": "code",
   "execution_count": 5,
   "id": "e8ca2092-9243-4fe3-b0f7-9b3392290ce1",
   "metadata": {
    "tags": []
   },
   "outputs": [
    {
     "name": "stdout",
     "output_type": "stream",
     "text": [
      "The Length -  5.0\n",
      "The Slope -  0.75\n"
     ]
    }
   ],
   "source": [
    "p1 = Point(4, 3)\n",
    "p2 = Point()\n",
    "s = Segment(p1, p2)\n",
    "\n",
    "print(\"The Length - \", s.length())\n",
    "print(\"The Slope - \", s.slope())\n"
   ]
  },
  {
   "cell_type": "code",
   "execution_count": null,
   "id": "ae66d0b3-aa34-49a2-920b-7f5f86ca17f7",
   "metadata": {},
   "outputs": [],
   "source": []
  }
 ],
 "metadata": {
  "kernelspec": {
   "display_name": "Python 3 (ipykernel)",
   "language": "python",
   "name": "python3"
  },
  "language_info": {
   "codemirror_mode": {
    "name": "ipython",
    "version": 3
   },
   "file_extension": ".py",
   "mimetype": "text/x-python",
   "name": "python",
   "nbconvert_exporter": "python",
   "pygments_lexer": "ipython3",
   "version": "3.11.5"
  }
 },
 "nbformat": 4,
 "nbformat_minor": 5
}
